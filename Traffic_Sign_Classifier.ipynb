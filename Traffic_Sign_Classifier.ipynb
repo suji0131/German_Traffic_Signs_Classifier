{
 "cells": [
  {
   "cell_type": "markdown",
   "metadata": {
    "deletable": true,
    "editable": true
   },
   "source": [
    "# Project: Building a Traffic Sign Recognition Classifier\n",
    "\n",
    "## Self-Driving Car Engineer Nanodegree\n",
    "\n",
    "###### Keywords: Deep Learning, Inception Module, Convolutional Neural Networks "
   ]
  },
  {
   "cell_type": "markdown",
   "metadata": {
    "deletable": true,
    "editable": true
   },
   "source": [
    "---\n",
    "## Load Libraries and the Data"
   ]
  },
  {
   "cell_type": "code",
   "execution_count": 1,
   "metadata": {
    "collapsed": true,
    "deletable": true,
    "editable": true
   },
   "outputs": [],
   "source": [
    "import pickle\n",
    "import time\n",
    "import numpy as np\n",
    "import tensorflow as tf\n",
    "import seaborn as sns\n",
    "\n",
    "from tensorflow.contrib.layers import flatten\n",
    "from sklearn.utils import shuffle\n"
   ]
  },
  {
   "cell_type": "code",
   "execution_count": 2,
   "metadata": {
    "collapsed": false,
    "deletable": true,
    "editable": true
   },
   "outputs": [],
   "source": [
    "training_file = 'train_aug.p' #augmented training data\n",
    "validation_file= 'valid.p'\n",
    "testing_file = 'test.p'\n",
    "\n",
    "with open(training_file, mode='rb') as f:\n",
    "    train = pickle.load(f)\n",
    "with open(validation_file, mode='rb') as f:\n",
    "    valid = pickle.load(f)\n",
    "with open(testing_file, mode='rb') as f:\n",
    "    test = pickle.load(f)\n",
    "    \n",
    "x_train, y_train = train['features'], train['labels']\n",
    "x_valid, y_valid = valid['features'], valid['labels']\n",
    "x_test, y_test = test['features'], test['labels']"
   ]
  },
  {
   "cell_type": "code",
   "execution_count": 3,
   "metadata": {
    "collapsed": true,
    "deletable": true,
    "editable": true
   },
   "outputs": [],
   "source": [
    "#checking if data is loaded properly\n",
    "assert len(x_train) == len(y_train)\n",
    "assert len(x_valid) == len(y_valid)\n",
    "assert len(x_test) == len(y_test)"
   ]
  },
  {
   "cell_type": "markdown",
   "metadata": {
    "deletable": true,
    "editable": true
   },
   "source": [
    "---\n",
    "\n",
    "## Dataset Summary & Exploration\n",
    "\n",
    "The pickled data is a dictionary with 4 key/value pairs:\n",
    "\n",
    "- `'features'` is a 4D array containing raw pixel data of the traffic sign images, (num examples, width, height, channels).\n",
    "- `'labels'` is a 1D array containing the label/class id of the traffic sign. The file `signnames.csv` contains id -> name mappings for each id.\n",
    "- `'sizes'` is a list containing tuples, (width, height) representing the original width and height the image.\n",
    "- `'coords'` is a list containing tuples, (x1, y1, x2, y2) representing coordinates of a bounding box around the sign in the image. **THESE COORDINATES ASSUME THE ORIGINAL IMAGE. THE PICKLED DATA CONTAINS RESIZED VERSIONS (32 by 32) OF THESE IMAGES**"
   ]
  },
  {
   "cell_type": "code",
   "execution_count": 4,
   "metadata": {
    "collapsed": false,
    "deletable": true,
    "editable": true
   },
   "outputs": [
    {
     "name": "stdout",
     "output_type": "stream",
     "text": [
      "Number of training examples = 196045\n",
      "Number of testing examples = 12630\n",
      "Image data shape = (32, 32, 3)\n",
      "Number of classes = 43\n"
     ]
    }
   ],
   "source": [
    "# Number of training examples\n",
    "n_train = len(y_train)\n",
    "\n",
    "# Number of validation examples\n",
    "n_validation = len(y_valid)\n",
    "\n",
    "# Number of testing examples.\n",
    "n_test = len(y_test)\n",
    "\n",
    "# Shape of an traffic sign image.\n",
    "image_shape = np.shape(x_train[0])\n",
    "\n",
    "# Unique classes \n",
    "unq_classes = np.unique(y_train)\n",
    "\n",
    "# Unique classes/labels there are in the dataset.\n",
    "n_classes = len(unq_classes)\n",
    "\n",
    "# Bincount labels in training set\n",
    "bin_count = np.bincount(y_train)\n",
    "\n",
    "print(\"Number of training examples =\", n_train)\n",
    "print(\"Number of testing examples =\", n_test)\n",
    "print(\"Image data shape =\", image_shape)\n",
    "print(\"Number of classes =\", n_classes)"
   ]
  },
  {
   "cell_type": "markdown",
   "metadata": {
    "deletable": true,
    "editable": true
   },
   "source": [
    "###### Exploratory visualization of the dataset"
   ]
  },
  {
   "cell_type": "markdown",
   "metadata": {
    "deletable": true,
    "editable": true
   },
   "source": [
    "Sample traffic sign images, plot of count of each sign. \n",
    "\n",
    "**Futrue Work:** It can be interesting to look at the distribution of classes in the training, validation and test set. Is the distribution the same? Are there more examples of some classes than others?"
   ]
  },
  {
   "cell_type": "code",
   "execution_count": 5,
   "metadata": {
    "collapsed": false,
    "deletable": true,
    "editable": true
   },
   "outputs": [
    {
     "data": {
      "image/png": "[encoded data removed]",
      "text/plain": [
       "<matplotlib.figure.Figure at 0x7f57f41aa898>"
      ]
     },
     "metadata": {},
     "output_type": "display_data"
    }
   ],
   "source": [
    "%matplotlib inline\n",
    "import matplotlib.pyplot as plt\n",
    "\n",
    "# Sample visualization of traffic sign \n",
    "plt.imshow(x_train[190000])\n",
    "plt.show()"
   ]
  },
  {
   "cell_type": "code",
   "execution_count": 6,
   "metadata": {
    "collapsed": false,
    "deletable": true,
    "editable": true
   },
   "outputs": [
    {
     "data": {
      "image/png": "[encoded data removed]",
      "text/plain": [
       "<matplotlib.figure.Figure at 0x7f57ee0f7208>"
      ]
     },
     "metadata": {},
     "output_type": "display_data"
    }
   ],
   "source": [
    "# plot of no of training data for each class \n",
    "sns.set(style=\"darkgrid\")\n",
    "sns.barplot(x=unq_classes, y=bin_count, color='green')\n",
    "sns.plt.show()"
   ]
  },
  {
   "cell_type": "markdown",
   "metadata": {
    "deletable": true,
    "editable": true
   },
   "source": [
    "----\n",
    "\n",
    "## Model Architecture"
   ]
  },
  {
   "cell_type": "markdown",
   "metadata": {
    "deletable": true,
    "editable": true
   },
   "source": [
    "###### Pre-processing the Data Set (normalization etc.)"
   ]
  },
  {
   "cell_type": "markdown",
   "metadata": {
    "deletable": true,
    "editable": true
   },
   "source": [
    "Minimally, the image data should be normalized so that the data has mean zero and equal variance. For image data, `(pixel - 128)/ 128` is a quick way to approximately normalize the data that will be used in this project. "
   ]
  },
  {
   "cell_type": "code",
   "execution_count": 7,
   "metadata": {
    "collapsed": true,
    "deletable": true,
    "editable": true
   },
   "outputs": [],
   "source": [
    "x_train = x_train/255\n",
    "x_t_t = np.average(x_train, axis=0)"
   ]
  },
  {
   "cell_type": "code",
   "execution_count": 8,
   "metadata": {
    "collapsed": false,
    "deletable": true,
    "editable": true
   },
   "outputs": [],
   "source": [
    "x_valid = x_valid/255\n",
    "x_valid = x_valid - x_t_t\n",
    "\n",
    "x_test = x_test/255\n",
    "x_test = x_test - x_t_t\n"
   ]
  },
  {
   "cell_type": "markdown",
   "metadata": {
    "deletable": true,
    "editable": true
   },
   "source": [
    "###### Model Architecture"
   ]
  },
  {
   "cell_type": "markdown",
   "metadata": {
    "deletable": true,
    "editable": true
   },
   "source": [
    "Architecture consists of two convolution layers, an Inception module (more on this later), max pool layers and fully connected neural network.\n",
    "\n",
    "<figure>\n",
    " <img src=\"extras/Architecture.png\" width=\"580\"/>\n",
    " <figcaption>\n",
    " <p></p> \n",
    " <p style=\"text-align: center;\"> Model Architecture</p> \n",
    " </figcaption>\n",
    "</figure>\n",
    " <p></p> "
   ]
  },
  {
   "cell_type": "code",
   "execution_count": 9,
   "metadata": {
    "collapsed": true,
    "deletable": true,
    "editable": true
   },
   "outputs": [],
   "source": [
    "#model parameters\n",
    "learning_rate = 0.001\n",
    "epochs = 65\n",
    "batch_size = 9000"
   ]
  },
  {
   "cell_type": "code",
   "execution_count": 10,
   "metadata": {
    "collapsed": true,
    "deletable": true,
    "editable": true
   },
   "outputs": [],
   "source": [
    "#weights and bias\n",
    "#first convolution weight and bias\n",
    "cnw_1 = tf.Variable(tf.truncated_normal([5,5,3,8], mean=0, stddev=0.1)) #stride 1\n",
    "cnb_1 = tf.Variable(tf.zeros([8]))\n",
    "\n",
    "#second convolution weight and bias\n",
    "cnw_2 = tf.Variable(tf.truncated_normal([3,3,8,16], mean=0, stddev=0.1)) #stride 1\n",
    "cnb_2 = tf.Variable(tf.zeros([16]))\n",
    "\n",
    "#weights and bias for first inception module\n",
    "weights_1 = {'icnw1': tf.Variable(tf.truncated_normal([1,1,16,32])),\n",
    "          'icnw2': tf.Variable(tf.truncated_normal([1,1,16,20])),\n",
    "          'icnw23': tf.Variable(tf.truncated_normal([3,3,20,24])),\n",
    "          'icnw3': tf.Variable(tf.truncated_normal([1,1,16,20])),\n",
    "          'icnw35': tf.Variable(tf.truncated_normal([5,5,20,24])),\n",
    "          'icnwm1': tf.Variable(tf.truncated_normal([1,1,16,32]))}\n",
    "\n",
    "bias_1 = {'icnb1': tf.Variable(tf.zeros([32])),\n",
    "          'icnb2': tf.Variable(tf.zeros([20])),\n",
    "          'icnb23': tf.Variable(tf.zeros([24])),\n",
    "          'icnb3': tf.Variable(tf.zeros([20])),\n",
    "          'icnb35': tf.Variable(tf.zeros([24])),\n",
    "          'icnbm1': tf.Variable(tf.zeros([32]))}\n",
    "\n",
    "#fully connected weights and bias\n",
    "# 1008 to 86\n",
    "nnwts_1 = tf.Variable(tf.truncated_normal([1008, 86], mean=0, stddev=0.1))\n",
    "nnb_1 = tf.Variable(tf.zeros([86]))\n",
    "\n",
    "# 86 to 43\n",
    "nnwts_2 = tf.Variable(tf.truncated_normal([86, 43], mean=0, stddev=0.1))\n",
    "nnb_2 = tf.Variable(tf.zeros([43]))"
   ]
  },
  {
   "cell_type": "markdown",
   "metadata": {},
   "source": [
    "<figure>\n",
    " <img src=\"extras/Inception.png\" width=\"580\"/>\n",
    " <figcaption>\n",
    " <p></p> \n",
    " <p style=\"text-align: center;\"> Inception Module Architecture</p> \n",
    " </figcaption>\n",
    "</figure>\n",
    " <p></p> \n"
   ]
  },
  {
   "cell_type": "code",
   "execution_count": 11,
   "metadata": {
    "collapsed": true,
    "deletable": true,
    "editable": true
   },
   "outputs": [],
   "source": [
    "#learning rate function\n",
    "def lr_fn(epoch):\n",
    "  if(epoch <= 55):\n",
    "    return 0.001\n",
    "  else:\n",
    "    return 0.0005\n",
    "\n",
    "\n",
    "#NN layerincluding relu activation\n",
    "def NN_lay(x, wts, bias):\n",
    "    x = tf.add(tf.matmul(x, wts), bias)\n",
    "    return tf.nn.relu(x)\n",
    "\n",
    "#does a convolution and a relu activation\n",
    "def conv_(x, wts, bias, strides=1, padding='VALID'):\n",
    "    x = tf.nn.conv2d(x, wts, [1,strides,strides,1], padding)\n",
    "    x = tf.nn.bias_add(x, bias)\n",
    "    return tf.nn.relu(x)  \n",
    "\n",
    "#maxpooling layer\n",
    "def maxpool_(x, k=2, stride=1,padding='SAME'):\n",
    "    return tf.nn.max_pool(x, [1,k,k,1], [1,stride,stride,1], 'SAME')    \n",
    "\n",
    "#concatenates the four parallel layers of inception module \n",
    "#each layers passed should have same dimens except for last axis(-1)\n",
    "def concat_lay(lay_1, lay_2, lay_3, lay_4, axis=-1):\n",
    "    lay_1 = tf.unstack(lay_1, axis=axis) #this creates a list unpacked along last axis(-1)\n",
    "    \n",
    "    lay_1.extend(tf.unstack(lay_2, axis=axis)) #extending the previous list\n",
    "    lay_1.extend(tf.unstack(lay_3, axis=axis))\n",
    "    lay_1.extend(tf.unstack(lay_4, axis=axis))\n",
    "    \n",
    "    return tf.stack(lay_1, axis=axis) #re stacking the layers along the last axis(-1)\n",
    "\n",
    "#inception modules takes x, weights, bias etc.\n",
    "#pad_wt is a param for padding to be done for max_pool layer\n",
    "def inception(x, iweights, ibias, pad_wt,strides=1, padding = 'SAME', k=2):\n",
    "    #1-1 filter conv layer\n",
    "    lay_1 = conv_(x, iweights['icnw1'],ibias['icnb1'], strides=strides, padding = padding)\n",
    "    \n",
    "    #1-1 filter conv layer and then 3-3 conv layer\n",
    "    lay_2 = conv_(x, iweights['icnw2'],ibias['icnb2'], strides=strides, padding = padding)\n",
    "    lay_2 = conv_(lay_2, iweights['icnw23'],ibias['icnb23'], strides=strides, padding = padding)\n",
    "    \n",
    "    #1-1 filter conv layer and then 5-5 conv layer\n",
    "    lay_3 = conv_(x, iweights['icnw3'],ibias['icnb3'], strides=strides, padding = padding)\n",
    "    lay_3 = conv_(lay_3, iweights['icnw35'],ibias['icnb35'], strides=strides, padding = padding)\n",
    "    \n",
    "    #max_pool layer and then a 1-1 conv layer\n",
    "    lay_4 = maxpool_(x, k=k, padding=padding)\n",
    "    lay_4 = conv_(lay_4, iweights['icnwm1'],ibias['icnbm1'], strides=strides, padding = padding)\n",
    "    \n",
    "    #concatenating the layers\n",
    "    return concat_lay(lay_1, lay_2, lay_3, lay_4)"
   ]
  },
  {
   "cell_type": "code",
   "execution_count": 12,
   "metadata": {
    "collapsed": true,
    "deletable": true,
    "editable": true
   },
   "outputs": [],
   "source": [
    "x = tf.placeholder(tf.float32, [None,32,32,3])\n",
    "y_ = tf.placeholder(tf.int32, [None])\n",
    "y = tf.one_hot(y_, 43)\n",
    "l = tf.placeholder(tf.float32) #learning rate placeholder\n",
    "\n",
    "#first layer, a convolution layer\n",
    "#inp: 32x32x3 to out: 28x28x8\n",
    "logits = conv_(x, cnw_1, cnb_1, strides=1, padding='VALID')\n",
    "#inp: 28x28x8 to out: 14x14x8\n",
    "logits = tf.nn.max_pool(logits, [1,2,2,1], [1,2,2,1], 'VALID')\n",
    "\n",
    "#second layer, a convolution layer\n",
    "#inp: 14x14x8 to out: 12x12x16\n",
    "logits = conv_(logits, cnw_2, cnb_2, strides=1, padding='VALID')\n",
    "#inp: 12x12x16 to out: 6x6x16\n",
    "logits = tf.nn.max_pool(logits, [1,2,2,1], [1,2,2,1], 'VALID')\n",
    "\n",
    "#third layer, a inception module\n",
    "#inp: 6x6x16 to out: 6x6x112\n",
    "logits = inception(logits, weights_1, bias_1, 1, k=3)\n",
    "logits = tf.nn.max_pool(logits, [1,2,2,1], [1,2,2,1], 'VALID')\n",
    "\n",
    "#flatten the tensor: 3*3*112 = 1008\n",
    "logits = flatten(logits)\n",
    "\n",
    "#fully connected layer 1: 1008 to 86\n",
    "logits = NN_lay(logits, nnwts_1, nnb_1)\n",
    "\n",
    "#fully connected layer 2: 86 to 43\n",
    "logits = tf.add(tf.matmul(logits, nnwts_2), nnb_2)\n",
    "\n",
    "#cross entropy loss is objective function\n",
    "cost = tf.reduce_mean(tf.nn.softmax_cross_entropy_with_logits(logits=logits, labels=y))\n",
    "\n",
    "# Optimizer \n",
    "optimizer = tf.train.AdamOptimizer(learning_rate=l).minimize(cost)"
   ]
  },
  {
   "cell_type": "code",
   "execution_count": 13,
   "metadata": {
    "collapsed": true,
    "deletable": true,
    "editable": true
   },
   "outputs": [],
   "source": [
    "# Accuracy\n",
    "correct_pred = tf.equal(tf.argmax(logits, 1), tf.argmax(y, 1))\n",
    "accuracy = tf.reduce_mean(tf.cast(correct_pred, tf.float32))\n",
    "\n",
    "#top 5 accuracy\n",
    "top_5 = tf.nn.in_top_k(tf.nn.softmax(logits), tf.argmax(y, 1), 5)\n",
    "top_5_acc = tf.reduce_mean(tf.cast(top_5, tf.int32))"
   ]
  },
  {
   "cell_type": "markdown",
   "metadata": {
    "deletable": true,
    "editable": true
   },
   "source": [
    "###### Train, Validate and Test the Model"
   ]
  },
  {
   "cell_type": "markdown",
   "metadata": {
    "deletable": true,
    "editable": true
   },
   "source": [
    "A validation set can be used to assess how well the model is performing. A low accuracy on the training and validation sets imply underfitting. A high accuracy on the training set but low accuracy on the validation set implies overfitting."
   ]
  },
  {
   "cell_type": "code",
   "execution_count": 14,
   "metadata": {
    "collapsed": true,
    "deletable": true,
    "editable": true
   },
   "outputs": [],
   "source": [
    "#saving the model\n",
    "save_file = 'New_wts/model'\n",
    "saver = tf.train.Saver()"
   ]
  },
  {
   "cell_type": "code",
   "execution_count": 15,
   "metadata": {
    "collapsed": true,
    "deletable": true,
    "editable": true
   },
   "outputs": [],
   "source": [
    "# Initializing the variables\n",
    "init = tf. global_variables_initializer()"
   ]
  },
  {
   "cell_type": "code",
   "execution_count": 16,
   "metadata": {
    "collapsed": true,
    "deletable": true,
    "editable": true
   },
   "outputs": [],
   "source": [
    "#Add data to lists\n",
    "loss_train = []\n",
    "loss_valid_m = [] #has more points\n",
    "loss_valid = []\n",
    "acc_valid = []\n"
   ]
  },
  {
   "cell_type": "code",
   "execution_count": null,
   "metadata": {
    "collapsed": true,
    "deletable": true,
    "editable": true
   },
   "outputs": [],
   "source": [
    "with tf.Session() as sess:\n",
    "    sess.run(init)\n",
    "    num_ex = len(x_train)\n",
    "    \n",
    "    no_of_batches = int(len(x_train)/batch_size)\n",
    "    x_t, y_t = shuffle(x_train, y_train)\n",
    "    for epoch in range(epochs):\n",
    "        strt_tym = time.time()\n",
    "        for offset in range(no_of_batches):\n",
    "            idx = np.random.randint(0, high=len(x_t), size=batch_size)\n",
    "            batch_x, batch_y = x_t[idx], y_t[idx]\n",
    "            \n",
    "            sess.run(optimizer, feed_dict={x:batch_x, y_:batch_y, l:lr_fn(epoch)})\n",
    "            loss = sess.run(cost, feed_dict={x:batch_x, y_:batch_y})\n",
    "            \n",
    "            #saving training loss in the list\n",
    "            loss_train.append(loss)\n",
    "            \n",
    "            #saving validation loss in the list\n",
    "            loss_valid_m.append(sess.run(cost, feed_dict={x: x_valid, y_: y_valid}))\n",
    "            \n",
    "        end_tym = time.time()\n",
    "        \n",
    "        loss_valid.append(sess.run(cost, feed_dict={x: x_valid, y_: y_valid}))  \n",
    "        val_acc = sess.run(accuracy, feed_dict={x: x_valid, y_: y_valid})\n",
    "        acc_valid.append(val_acc)\n",
    "        print('/******************************************************************/')\n",
    "        print('no of epoch: ',epoch)\n",
    "        print('loss: ',loss)\n",
    "        print('accuracy: ', val_acc)\n",
    "        print('time in sec for an epoch: ', end_tym - strt_tym)\n",
    "    saver.save(sess, save_file)\n",
    "    t_acc = sess.run(accuracy, feed_dict={x: x_test, y_: y_test})\n",
    "    print('test accuracy: ', t_acc)\n",
    "    print('top 5 accuracy: ', sess.run(top_5_acc, feed_dict={x: x_test, y_:y_test}))\n"
   ]
  },
  {
   "cell_type": "code",
   "execution_count": null,
   "metadata": {
    "collapsed": true,
    "deletable": true,
    "editable": true
   },
   "outputs": [],
   "source": [
    "with open(\"diag.pickle\", \"wb\") as f:\n",
    "    pickle.dump((loss_train, loss_valid_m, loss_valid, acc_valid), f)\n"
   ]
  },
  {
   "cell_type": "markdown",
   "metadata": {
    "deletable": true,
    "editable": true
   },
   "source": [
    "Training was done on google cloud computing engine with with 2 vCPUs with 13GB memory and a nVidia Tesla K80 GPU. Training time for each epoch is approximately 22 seconds. I reloaded the saved model for following cells"
   ]
  },
  {
   "cell_type": "code",
   "execution_count": 17,
   "metadata": {
    "collapsed": false,
    "deletable": true,
    "editable": true
   },
   "outputs": [
    {
     "name": "stdout",
     "output_type": "stream",
     "text": [
      "0.995692  is the validation accuracy\n",
      "0.877751  is the test accuracy\n"
     ]
    }
   ],
   "source": [
    "with tf.Session() as sess:\n",
    "    sess.run(init)\n",
    "    new_saver = tf.train.import_meta_graph('New_wts/model.meta')\n",
    "    new_saver.restore(sess, tf.train.latest_checkpoint('New_wts/./'))  \n",
    "    print(sess.run(accuracy, feed_dict={x: x_valid, y_: y_valid}), \" is the validation accuracy\")\n",
    "    print(sess.run(accuracy, feed_dict={x: x_test, y_: y_test}), \" is the test accuracy\")\n",
    "    a = sess.run(top_5, feed_dict={x: x_test, y_: y_test})\n",
    "    '''a is a boolean array indicating whether true label is in top 5 predictions or not'''"
   ]
  },
  {
   "cell_type": "code",
   "execution_count": 18,
   "metadata": {
    "collapsed": false,
    "deletable": true,
    "editable": true
   },
   "outputs": [
    {
     "name": "stdout",
     "output_type": "stream",
     "text": [
      "0.9805225653206651\n"
     ]
    }
   ],
   "source": [
    "#printing top five accuracy\n",
    "count = 0\n",
    "for b in a:\n",
    "    if b:\n",
    "        count = count + 1\n",
    "print(count/len(a)) #top five accuracy"
   ]
  },
  {
   "cell_type": "markdown",
   "metadata": {
    "deletable": true,
    "editable": true
   },
   "source": [
    "---\n",
    "\n",
    "## Testing Model on New Images"
   ]
  },
  {
   "cell_type": "markdown",
   "metadata": {
    "deletable": true,
    "editable": true
   },
   "source": [
    "### Load the Images"
   ]
  },
  {
   "cell_type": "code",
   "execution_count": 17,
   "metadata": {
    "collapsed": true,
    "deletable": true,
    "editable": true
   },
   "outputs": [],
   "source": [
    "import matplotlib.image as mpimg"
   ]
  },
  {
   "cell_type": "code",
   "execution_count": 18,
   "metadata": {
    "collapsed": false,
    "deletable": true,
    "editable": true
   },
   "outputs": [],
   "source": [
    "x_new = []\n",
    "names = ['50_limit_2.jpg','end_32.jpg','keeprt_38.jpg','priority_12.jpg','road_25.jpg']\n",
    "for name in names:\n",
    "    temp = 'New_imgs/'+name\n",
    "    image = mpimg.imread(temp)\n",
    "    x_new.append(image)\n",
    "    \n",
    "x_real = np.array(x_new)\n",
    "y_real = np.array([2,32,38,12,25])"
   ]
  },
  {
   "cell_type": "code",
   "execution_count": 19,
   "metadata": {
    "collapsed": false,
    "deletable": true,
    "editable": true
   },
   "outputs": [
    {
     "name": "stdout",
     "output_type": "stream",
     "text": [
      "(5, 32, 32, 3)\n"
     ]
    }
   ],
   "source": [
    "print(np.shape(x_real))"
   ]
  },
  {
   "cell_type": "code",
   "execution_count": 20,
   "metadata": {
    "collapsed": false,
    "deletable": true,
    "editable": true
   },
   "outputs": [],
   "source": [
    "x_real = x_real/255\n",
    "x_real = x_real - x_t_t"
   ]
  },
  {
   "cell_type": "markdown",
   "metadata": {
    "deletable": true,
    "editable": true
   },
   "source": [
    "### Predict the Sign Type for Each Image and Analyzing Performance"
   ]
  },
  {
   "cell_type": "code",
   "execution_count": 21,
   "metadata": {
    "collapsed": false,
    "deletable": true,
    "editable": true
   },
   "outputs": [
    {
     "name": "stdout",
     "output_type": "stream",
     "text": [
      "0.8  is the accuracy on real images\n"
     ]
    }
   ],
   "source": [
    "#reloading the graph and testing for new images\n",
    "with tf.Session() as sess:\n",
    "    sess.run(init)\n",
    "    new_saver = tf.train.import_meta_graph('New_wts/model.meta')\n",
    "    new_saver.restore(sess, tf.train.latest_checkpoint('New_wts/./'))  \n",
    "    print(sess.run(accuracy, feed_dict={x: x_real, y_: y_real}), \" is the accuracy on real images\")\n",
    "    a_real = sess.run(top_5, feed_dict={x: x_real, y_: y_real})\n",
    "    '''a_real is a boolean array indicating whether true label is in top 5 predictions or not'''"
   ]
  },
  {
   "cell_type": "markdown",
   "metadata": {
    "deletable": true,
    "editable": true
   },
   "source": [
    "### Output Top 5 Softmax Probabilities For Each Image Found on the Web"
   ]
  },
  {
   "cell_type": "code",
   "execution_count": 24,
   "metadata": {
    "collapsed": false,
    "deletable": true,
    "editable": true
   },
   "outputs": [
    {
     "name": "stdout",
     "output_type": "stream",
     "text": [
      "1.0  is the top 5 accuracy on real images\n"
     ]
    }
   ],
   "source": [
    "#printing top 5 accuracy\n",
    "count = 0\n",
    "for b in a_real:\n",
    "    if b:\n",
    "        count = count + 1\n",
    "print(count/len(a_real), \" is the top 5 accuracy on real images\")"
   ]
  },
  {
   "cell_type": "code",
   "execution_count": 27,
   "metadata": {
    "collapsed": false,
    "deletable": true,
    "editable": true
   },
   "outputs": [
    {
     "data": {
      "image/png": "[encoded data removed]",
      "text/plain": [
       "<matplotlib.figure.Figure at 0x7f57e311c2e8>"
      ]
     },
     "metadata": {},
     "output_type": "display_data"
    }
   ],
   "source": [
    "# Sample visualization of real traffic sign \n",
    "plt.imshow(x_new[0])\n",
    "plt.show()"
   ]
  },
  {
   "cell_type": "markdown",
   "metadata": {
    "deletable": true,
    "editable": true
   },
   "source": [
    "> **Note**: Once you have completed all of the code implementations and successfully answered each question above, you may finalize your work by exporting the iPython Notebook as an HTML document. You can do this by using the menu above and navigating to  \\n\",\n",
    "    \"**File -> Download as -> HTML (.html)**. Include the finished document along with this notebook as your submission."
   ]
  },
  {
   "cell_type": "markdown",
   "metadata": {},
   "source": [
    "---\n",
    "## Diagnostics"
   ]
  },
  {
   "cell_type": "code",
   "execution_count": 2,
   "metadata": {
    "collapsed": true
   },
   "outputs": [],
   "source": [
    "import pandas as pd"
   ]
  },
  {
   "cell_type": "code",
   "execution_count": 3,
   "metadata": {
    "collapsed": true
   },
   "outputs": [],
   "source": [
    "with open(\"diag.pickle\", \"rb\") as g:\n",
    "    zz = pickle.load(g)"
   ]
  },
  {
   "cell_type": "code",
   "execution_count": 4,
   "metadata": {
    "collapsed": true
   },
   "outputs": [],
   "source": [
    "loss_train, loss_valid_m, loss_valid, acc_valid = zz"
   ]
  },
  {
   "cell_type": "code",
   "execution_count": 5,
   "metadata": {
    "collapsed": true
   },
   "outputs": [],
   "source": [
    "a = {\"train_loss\": loss_train, \"valid_loss\": loss_valid_m}\n",
    "b = {\"loss_valid_short\": loss_valid}"
   ]
  },
  {
   "cell_type": "code",
   "execution_count": 6,
   "metadata": {
    "collapsed": true
   },
   "outputs": [],
   "source": [
    "df = pd.DataFrame.from_dict(a)\n",
    "df1 = pd.DataFrame.from_dict(b)"
   ]
  },
  {
   "cell_type": "code",
   "execution_count": 7,
   "metadata": {
    "collapsed": false,
    "scrolled": true
   },
   "outputs": [
    {
     "data": {
      "image/png": "[encoded data removed]",
      "text/plain": [
       "<matplotlib.figure.Figure at 0x7f9a21824c18>"
      ]
     },
     "metadata": {},
     "output_type": "display_data"
    }
   ],
   "source": [
    "%matplotlib inline\n",
    "sns.set(style=\"darkgrid\")\n",
    "sns.tsplot(df.train_loss, color=\"green\", condition='train_loss')\n",
    "sns.tsplot(df.valid_loss, color=\"red\", condition='validation_loss')\n",
    "sns.plt.show()"
   ]
  },
  {
   "cell_type": "markdown",
   "metadata": {},
   "source": [
    "###### Results Analysis\n",
    "1 epoch = 21 iterations\n",
    "\n",
    "Zoomed in version of the above graph looks like below. Both training loss and validation loss are smooth which implies that learning rate is good. Training loss didn't increase after steadily decreasing so it can be inferred that there is no over-fitting.  \n",
    "\n",
    "<figure>\n",
    " <img src=\"extras/zoom_graph.png\" width=\"580\"/>\n",
    " <figcaption>\n",
    " <p></p> \n",
    " <p style=\"text-align: center;\"> Loss (y-axis) vs each iteration (x-axis)</p> \n",
    " </figcaption>\n",
    "</figure>\n",
    " <p></p> \n"
   ]
  },
  {
   "cell_type": "markdown",
   "metadata": {
    "deletable": true,
    "editable": true
   },
   "source": [
    "---\n",
    "\n",
    "## Future work: Visualize the Neural Network's State with Test Images"
   ]
  },
  {
   "cell_type": "code",
   "execution_count": null,
   "metadata": {
    "collapsed": true,
    "deletable": true,
    "editable": true
   },
   "outputs": [],
   "source": [
    "### Visualize network's feature maps.\n",
    "\n",
    "# image_input: the test image being fed into the network to produce the feature maps\n",
    "# tf_activation: should be a tf variable name used during your training procedure that represents the calculated state of a specific weight layer\n",
    "# activation_min/max: can be used to view the activation contrast in more detail, by default matplot sets min and max to the actual min and max values of the output\n",
    "# plt_num: used to plot out multiple different weight feature map sets on the same block, just extend the plt number for each new feature map entry\n",
    "\n",
    "def outputFeatureMap(image_input, tf_activation, activation_min=-1, activation_max=-1 ,plt_num=1):\n",
    "    # preprocess your image_input in a way your network expects\n",
    "    # with size, normalization, ect if needed\n",
    "    # image_input =\n",
    "    # Note: x should be the same name as your network's tensorflow data placeholder variable\n",
    "    activation = tf_activation.eval(session=sess,feed_dict={x : image_input})\n",
    "    featuremaps = activation.shape[3]\n",
    "    plt.figure(plt_num, figsize=(15,15))\n",
    "    for featuremap in range(featuremaps):\n",
    "        plt.subplot(6,8, featuremap+1) # sets the number of feature maps to show on each row and column\n",
    "        plt.title('FeatureMap ' + str(featuremap)) # displays the feature map number\n",
    "        if activation_min != -1 & activation_max != -1:\n",
    "            plt.imshow(activation[0,:,:, featuremap], interpolation=\"nearest\", vmin =activation_min, vmax=activation_max, cmap=\"gray\")\n",
    "        elif activation_max != -1:\n",
    "            plt.imshow(activation[0,:,:, featuremap], interpolation=\"nearest\", vmax=activation_max, cmap=\"gray\")\n",
    "        elif activation_min !=-1:\n",
    "            plt.imshow(activation[0,:,:, featuremap], interpolation=\"nearest\", vmin=activation_min, cmap=\"gray\")\n",
    "        else:\n",
    "            plt.imshow(activation[0,:,:, featuremap], interpolation=\"nearest\", cmap=\"gray\")"
   ]
  }
 ],
 "metadata": {
  "anaconda-cloud": {},
  "kernelspec": {
   "display_name": "Python 3",
   "language": "python",
   "name": "python3"
  },
  "language_info": {
   "codemirror_mode": {
    "name": "ipython",
    "version": 3
   },
   "file_extension": ".py",
   "mimetype": "text/x-python",
   "name": "python",
   "nbconvert_exporter": "python",
   "pygments_lexer": "ipython3",
   "version": "3.5.2"
  },
  "widgets": {
   "state": {},
   "version": "1.1.2"
  }
 },
 "nbformat": 4,
 "nbformat_minor": 1
}
